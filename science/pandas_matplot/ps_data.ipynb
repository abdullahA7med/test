{
 "cells": [
  {
   "cell_type": "code",
   "execution_count": 1,
   "id": "e397f8a4-deeb-4dd3-862f-b325d590e45c",
   "metadata": {},
   "outputs": [],
   "source": [
    "import pandas as pd"
   ]
  },
  {
   "cell_type": "code",
   "execution_count": null,
   "id": "2abde4cf-f7fd-46c5-b6bb-9582d4f46920",
   "metadata": {},
   "outputs": [],
   "source": []
  },
  {
   "cell_type": "code",
   "execution_count": 3,
   "id": "0cf97d4c-52e4-4782-9679-6a39301b1776",
   "metadata": {},
   "outputs": [],
   "source": [
    "ps_data = pd.DataFrame({'Device_name' : ['PS 5 slim','PS 5 slim','PS 5 slim', 'PS 5 slim', 'PS 5 slim', 'PS 5 fat'],\n",
    "              'version':['degital', 'full','degital', 'degital', 'full', 'full'],\n",
    "             'status':['new','new','new', 'used', 'used', 'used'],\n",
    "             'joy stick':['2', '1', '1', '1', '1', '1'],\n",
    "             'price':[31999, 32000, 27500, 21500, 23500, 21500]})"
   ]
  },
  {
   "cell_type": "code",
   "execution_count": 6,
   "id": "efceea2d-7808-4119-8fa6-542e9c9b1409",
   "metadata": {},
   "outputs": [
    {
     "data": {
      "text/html": [
       "<div>\n",
       "<style scoped>\n",
       "    .dataframe tbody tr th:only-of-type {\n",
       "        vertical-align: middle;\n",
       "    }\n",
       "\n",
       "    .dataframe tbody tr th {\n",
       "        vertical-align: top;\n",
       "    }\n",
       "\n",
       "    .dataframe thead th {\n",
       "        text-align: right;\n",
       "    }\n",
       "</style>\n",
       "<table border=\"1\" class=\"dataframe\">\n",
       "  <thead>\n",
       "    <tr style=\"text-align: right;\">\n",
       "      <th></th>\n",
       "      <th>Device_name</th>\n",
       "      <th>version</th>\n",
       "      <th>status</th>\n",
       "      <th>joy stick</th>\n",
       "      <th>price</th>\n",
       "    </tr>\n",
       "  </thead>\n",
       "  <tbody>\n",
       "    <tr>\n",
       "      <th>0</th>\n",
       "      <td>PS 5 slim</td>\n",
       "      <td>degital</td>\n",
       "      <td>new</td>\n",
       "      <td>2</td>\n",
       "      <td>31999</td>\n",
       "    </tr>\n",
       "    <tr>\n",
       "      <th>1</th>\n",
       "      <td>PS 5 slim</td>\n",
       "      <td>full</td>\n",
       "      <td>new</td>\n",
       "      <td>1</td>\n",
       "      <td>32000</td>\n",
       "    </tr>\n",
       "    <tr>\n",
       "      <th>2</th>\n",
       "      <td>PS 5 slim</td>\n",
       "      <td>degital</td>\n",
       "      <td>new</td>\n",
       "      <td>1</td>\n",
       "      <td>27500</td>\n",
       "    </tr>\n",
       "    <tr>\n",
       "      <th>3</th>\n",
       "      <td>PS 5 slim</td>\n",
       "      <td>degital</td>\n",
       "      <td>used</td>\n",
       "      <td>1</td>\n",
       "      <td>21500</td>\n",
       "    </tr>\n",
       "    <tr>\n",
       "      <th>4</th>\n",
       "      <td>PS 5 slim</td>\n",
       "      <td>full</td>\n",
       "      <td>used</td>\n",
       "      <td>1</td>\n",
       "      <td>23500</td>\n",
       "    </tr>\n",
       "    <tr>\n",
       "      <th>5</th>\n",
       "      <td>PS 5 fat</td>\n",
       "      <td>full</td>\n",
       "      <td>used</td>\n",
       "      <td>1</td>\n",
       "      <td>21500</td>\n",
       "    </tr>\n",
       "  </tbody>\n",
       "</table>\n",
       "</div>"
      ],
      "text/plain": [
       "  Device_name  version status joy stick  price\n",
       "0   PS 5 slim  degital    new         2  31999\n",
       "1   PS 5 slim     full    new         1  32000\n",
       "2   PS 5 slim  degital    new         1  27500\n",
       "3   PS 5 slim  degital   used         1  21500\n",
       "4   PS 5 slim     full   used         1  23500\n",
       "5    PS 5 fat     full   used         1  21500"
      ]
     },
     "execution_count": 6,
     "metadata": {},
     "output_type": "execute_result"
    }
   ],
   "source": [
    "ps_data"
   ]
  },
  {
   "cell_type": "code",
   "execution_count": null,
   "id": "c9ae0072-850b-469f-98f0-95bb91d77bf2",
   "metadata": {},
   "outputs": [],
   "source": []
  },
  {
   "cell_type": "code",
   "execution_count": null,
   "id": "c75034bc-63b6-4045-bad0-b47302a00db4",
   "metadata": {},
   "outputs": [],
   "source": []
  },
  {
   "cell_type": "code",
   "execution_count": null,
   "id": "5cb473eb-f17a-4c62-9b4e-8a55b42fc4de",
   "metadata": {},
   "outputs": [],
   "source": []
  },
  {
   "cell_type": "code",
   "execution_count": null,
   "id": "1764ca5e-6cf2-499e-9a65-1bfb0fa21e67",
   "metadata": {},
   "outputs": [],
   "source": []
  },
  {
   "cell_type": "code",
   "execution_count": null,
   "id": "5e38d209-7605-411c-bb67-069dd5e4da9d",
   "metadata": {},
   "outputs": [],
   "source": []
  }
 ],
 "metadata": {
  "kernelspec": {
   "display_name": "Python 3 (ipykernel)",
   "language": "python",
   "name": "python3"
  },
  "language_info": {
   "codemirror_mode": {
    "name": "ipython",
    "version": 3
   },
   "file_extension": ".py",
   "mimetype": "text/x-python",
   "name": "python",
   "nbconvert_exporter": "python",
   "pygments_lexer": "ipython3",
   "version": "3.12.3"
  }
 },
 "nbformat": 4,
 "nbformat_minor": 5
}
